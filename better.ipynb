{
 "cells": [
  {
   "cell_type": "code",
   "execution_count": 9,
   "metadata": {},
   "outputs": [
    {
     "data": {
      "text/plain": [
       "<torch._C.Generator at 0x25112d133f0>"
      ]
     },
     "execution_count": 9,
     "metadata": {},
     "output_type": "execute_result"
    }
   ],
   "source": [
    "import torch\n",
    "from torch import nn, optim\n",
    "import torch.nn.functional as F\n",
    "import numpy as np\n",
    "torch.manual_seed(42)"
   ]
  },
  {
   "cell_type": "code",
   "execution_count": 10,
   "metadata": {},
   "outputs": [],
   "source": [
    "# input from txt\n",
    "file=open(\"data.txt\",\"r\")\n",
    "x_train=np.empty(1)\n",
    "y_train=np.empty(1)\n",
    "\n",
    "for i in file.readlines():\n",
    "    if \" \" in i:\n",
    "        valori = i.split()\n",
    "        valori = list(map(lambda x: float(x),valori))\n",
    "        y_train=np.append(y_train, valori[0])\n",
    "        x_train=np.append(x_train, valori[1:])\n",
    "x_train = x_train[1:]\n",
    "y_train = y_train[1:]\n",
    "x_train = x_train.reshape(-1,6)\n",
    "y_train = y_train.reshape(-1,1)\n",
    "y_train = np.log(y_train)\n",
    "\n",
    "file2=open(\"data2.txt\",\"r\")\n",
    "x_test=np.empty(1)\n",
    "y_test=np.empty(1)\n",
    "\n",
    "for i in file2.readlines():\n",
    "    if \" \" in i:\n",
    "        valori = i.split()\n",
    "        valori = list(map(lambda x: float(x),valori))\n",
    "        y_test=np.append(y_test, valori[0])\n",
    "        x_test=np.append(x_test, valori[1:])\n",
    "x_test = x_test[1:]\n",
    "y_test = y_test[1:]\n",
    "x_test = x_test.reshape(-1,6)\n",
    "y_test = y_test.reshape(-1,1)\n",
    "y_test = np.log(y_test)"
   ]
  },
  {
   "cell_type": "code",
   "execution_count": 11,
   "metadata": {},
   "outputs": [
    {
     "name": "stdout",
     "output_type": "stream",
     "text": [
      "torch.Size([51709, 6]) torch.Size([51709])\n",
      "torch.Size([50637, 6]) torch.Size([50637])\n"
     ]
    }
   ],
   "source": [
    "X_train = torch.from_numpy(x_train).float()\n",
    "y_train = torch.squeeze(torch.from_numpy(y_train).float())\n",
    "X_test = torch.from_numpy(x_test).float()\n",
    "y_test = torch.squeeze(torch.from_numpy(y_test).float())\n",
    "\n",
    "print(X_train.shape, y_train.shape)\n",
    "print(X_test.shape, y_test.shape)"
   ]
  },
  {
   "cell_type": "code",
   "execution_count": 16,
   "metadata": {},
   "outputs": [],
   "source": [
    "class Net(nn.Module):\n",
    "    def __init__(self, n_features):\n",
    "        super(Net, self).__init__()\n",
    "        self.fc1 = nn.Linear(n_features, 7)\n",
    "        self.fc2 = nn.Linear(7, 4)\n",
    "        self.fc3 = nn.Linear(4, 1)\n",
    "    def forward(self, x):\n",
    "        x = F.relu(self.fc1(x))\n",
    "        x = F.relu(self.fc2(x))\n",
    "        return torch.sigmoid(self.fc3(x))\n",
    "net = Net(X_train.shape[1])"
   ]
  },
  {
   "cell_type": "code",
   "execution_count": 17,
   "metadata": {},
   "outputs": [],
   "source": [
    "criterion = nn.L1Loss()\n",
    "optimizer = optim.Adam(net.parameters(), lr=0.0001)"
   ]
  },
  {
   "cell_type": "code",
   "execution_count": 18,
   "metadata": {},
   "outputs": [],
   "source": [
    "# use this if you have GPU available\n",
    "device = torch.device(\"cuda:0\" if torch.cuda.is_available() else \"cpu\")\n",
    "\n",
    "X_train = X_train.to(device)\n",
    "y_train = y_train.to(device)\n",
    "X_test = X_test.to(device)\n",
    "y_test = y_test.to(device)\n",
    "\n",
    "net = net.to(device)\n",
    "criterion = criterion.to(device)"
   ]
  },
  {
   "cell_type": "code",
   "execution_count": 22,
   "metadata": {},
   "outputs": [
    {
     "name": "stdout",
     "output_type": "stream",
     "text": [
      "epoch  0 Train set - loss:  2.574 Test  set - loss:  2.605\n",
      "epoch  100 Train set - loss:  2.574 Test  set - loss:  2.604\n",
      "epoch  200 Train set - loss:  2.573 Test  set - loss:  2.604\n",
      "epoch  300 Train set - loss:  2.573 Test  set - loss:  2.604\n",
      "epoch  400 Train set - loss:  2.573 Test  set - loss:  2.604\n",
      "epoch  500 Train set - loss:  2.573 Test  set - loss:  2.603\n",
      "epoch  600 Train set - loss:  2.573 Test  set - loss:  2.603\n",
      "epoch  700 Train set - loss:  2.573 Test  set - loss:  2.603\n",
      "epoch  800 Train set - loss:  2.572 Test  set - loss:  2.603\n",
      "epoch  900 Train set - loss:  2.572 Test  set - loss:  2.603\n",
      "epoch  1000 Train set - loss:  2.572 Test  set - loss:  2.602\n",
      "epoch  1100 Train set - loss:  2.572 Test  set - loss:  2.602\n",
      "epoch  1200 Train set - loss:  2.571 Test  set - loss:  2.602\n",
      "epoch  1300 Train set - loss:  2.571 Test  set - loss:  2.602\n",
      "epoch  1400 Train set - loss:  2.571 Test  set - loss:  2.602\n",
      "epoch  1500 Train set - loss:  2.571 Test  set - loss:  2.601\n",
      "epoch  1600 Train set - loss:  2.571 Test  set - loss:  2.601\n",
      "epoch  1700 Train set - loss:  2.571 Test  set - loss:  2.601\n",
      "epoch  1800 Train set - loss:  2.571 Test  set - loss:  2.601\n",
      "epoch  1900 Train set - loss:  2.57 Test  set - loss:  2.601\n",
      "epoch  2000 Train set - loss:  2.57 Test  set - loss:  2.601\n",
      "epoch  2100 Train set - loss:  2.57 Test  set - loss:  2.6\n",
      "epoch  2200 Train set - loss:  2.57 Test  set - loss:  2.6\n",
      "epoch  2300 Train set - loss:  2.57 Test  set - loss:  2.6\n",
      "epoch  2400 Train set - loss:  2.57 Test  set - loss:  2.6\n",
      "epoch  2500 Train set - loss:  2.57 Test  set - loss:  2.6\n",
      "epoch  2600 Train set - loss:  2.569 Test  set - loss:  2.6\n",
      "epoch  2700 Train set - loss:  2.569 Test  set - loss:  2.6\n",
      "epoch  2800 Train set - loss:  2.569 Test  set - loss:  2.6\n",
      "epoch  2900 Train set - loss:  2.569 Test  set - loss:  2.599\n",
      "epoch  3000 Train set - loss:  2.569 Test  set - loss:  2.599\n",
      "epoch  3100 Train set - loss:  2.569 Test  set - loss:  2.599\n",
      "epoch  3200 Train set - loss:  2.569 Test  set - loss:  2.599\n",
      "epoch  3300 Train set - loss:  2.569 Test  set - loss:  2.599\n",
      "epoch  3400 Train set - loss:  2.568 Test  set - loss:  2.599\n",
      "epoch  3500 Train set - loss:  2.568 Test  set - loss:  2.599\n",
      "epoch  3600 Train set - loss:  2.568 Test  set - loss:  2.599\n",
      "epoch  3700 Train set - loss:  2.568 Test  set - loss:  2.599\n",
      "epoch  3800 Train set - loss:  2.568 Test  set - loss:  2.599\n",
      "epoch  3900 Train set - loss:  2.568 Test  set - loss:  2.599\n",
      "epoch  4000 Train set - loss:  2.568 Test  set - loss:  2.599\n",
      "epoch  4100 Train set - loss:  2.568 Test  set - loss:  2.599\n",
      "epoch  4200 Train set - loss:  2.568 Test  set - loss:  2.598\n",
      "epoch  4300 Train set - loss:  2.568 Test  set - loss:  2.598\n",
      "epoch  4400 Train set - loss:  2.567 Test  set - loss:  2.598\n",
      "epoch  4500 Train set - loss:  2.567 Test  set - loss:  2.598\n",
      "epoch  4600 Train set - loss:  2.567 Test  set - loss:  2.598\n",
      "epoch  4700 Train set - loss:  2.567 Test  set - loss:  2.598\n",
      "epoch  4800 Train set - loss:  2.567 Test  set - loss:  2.598\n",
      "epoch  4900 Train set - loss:  2.567 Test  set - loss:  2.598\n",
      "epoch  5000 Train set - loss:  2.567 Test  set - loss:  2.598\n",
      "epoch  5100 Train set - loss:  2.567 Test  set - loss:  2.597\n",
      "epoch  5200 Train set - loss:  2.567 Test  set - loss:  2.597\n",
      "epoch  5300 Train set - loss:  2.566 Test  set - loss:  2.597\n",
      "epoch  5400 Train set - loss:  2.566 Test  set - loss:  2.597\n",
      "epoch  5500 Train set - loss:  2.566 Test  set - loss:  2.597\n",
      "epoch  5600 Train set - loss:  2.566 Test  set - loss:  2.597\n",
      "epoch  5700 Train set - loss:  2.566 Test  set - loss:  2.597\n",
      "epoch  5800 Train set - loss:  2.566 Test  set - loss:  2.597\n",
      "epoch  5900 Train set - loss:  2.566 Test  set - loss:  2.597\n",
      "epoch  6000 Train set - loss:  2.566 Test  set - loss:  2.597\n",
      "epoch  6100 Train set - loss:  2.566 Test  set - loss:  2.597\n",
      "epoch  6200 Train set - loss:  2.566 Test  set - loss:  2.597\n",
      "epoch  6300 Train set - loss:  2.566 Test  set - loss:  2.597\n",
      "epoch  6400 Train set - loss:  2.566 Test  set - loss:  2.597\n",
      "epoch  6500 Train set - loss:  2.566 Test  set - loss:  2.597\n",
      "epoch  6600 Train set - loss:  2.566 Test  set - loss:  2.596\n",
      "epoch  6700 Train set - loss:  2.566 Test  set - loss:  2.596\n",
      "epoch  6800 Train set - loss:  2.566 Test  set - loss:  2.596\n",
      "epoch  6900 Train set - loss:  2.566 Test  set - loss:  2.596\n",
      "epoch  7000 Train set - loss:  2.566 Test  set - loss:  2.596\n",
      "epoch  7100 Train set - loss:  2.566 Test  set - loss:  2.596\n",
      "epoch  7200 Train set - loss:  2.566 Test  set - loss:  2.596\n",
      "epoch  7300 Train set - loss:  2.566 Test  set - loss:  2.596\n",
      "epoch  7400 Train set - loss:  2.566 Test  set - loss:  2.596\n",
      "epoch  7500 Train set - loss:  2.566 Test  set - loss:  2.596\n",
      "epoch  7600 Train set - loss:  2.566 Test  set - loss:  2.596\n",
      "epoch  7700 Train set - loss:  2.566 Test  set - loss:  2.596\n",
      "epoch  7800 Train set - loss:  2.566 Test  set - loss:  2.596\n",
      "epoch  7900 Train set - loss:  2.566 Test  set - loss:  2.596\n",
      "epoch  8000 Train set - loss:  2.566 Test  set - loss:  2.596\n",
      "epoch  8100 Train set - loss:  2.566 Test  set - loss:  2.596\n",
      "epoch  8200 Train set - loss:  2.565 Test  set - loss:  2.596\n",
      "epoch  8300 Train set - loss:  2.565 Test  set - loss:  2.596\n",
      "epoch  8400 Train set - loss:  2.565 Test  set - loss:  2.596\n",
      "epoch  8500 Train set - loss:  2.565 Test  set - loss:  2.596\n",
      "epoch  8600 Train set - loss:  2.565 Test  set - loss:  2.596\n",
      "epoch  8700 Train set - loss:  2.565 Test  set - loss:  2.596\n",
      "epoch  8800 Train set - loss:  2.565 Test  set - loss:  2.596\n",
      "epoch  8900 Train set - loss:  2.565 Test  set - loss:  2.596\n",
      "epoch  9000 Train set - loss:  2.565 Test  set - loss:  2.596\n",
      "epoch  9100 Train set - loss:  2.565 Test  set - loss:  2.596\n",
      "epoch  9200 Train set - loss:  2.565 Test  set - loss:  2.596\n",
      "epoch  9300 Train set - loss:  2.565 Test  set - loss:  2.596\n",
      "epoch  9400 Train set - loss:  2.565 Test  set - loss:  2.596\n",
      "epoch  9500 Train set - loss:  2.565 Test  set - loss:  2.596\n",
      "epoch  9600 Train set - loss:  2.565 Test  set - loss:  2.596\n",
      "epoch  9700 Train set - loss:  2.565 Test  set - loss:  2.596\n",
      "epoch  9800 Train set - loss:  2.565 Test  set - loss:  2.596\n",
      "epoch  9900 Train set - loss:  2.565 Test  set - loss:  2.596\n"
     ]
    }
   ],
   "source": [
    "def round_tensor(t, decimal_places=3):\n",
    "    return round(t.item(), decimal_places)\n",
    "for epoch in range(10000):\n",
    "    y_pred = net(X_train)\n",
    "    y_pred = torch.squeeze(y_pred)\n",
    "    train_loss = criterion(y_pred, y_train)\n",
    "    if epoch % 500 == 0:\n",
    "        y_test_pred = net(X_test)\n",
    "        y_test_pred = torch.squeeze(y_test_pred)\n",
    "        test_loss = criterion(y_test_pred, y_test)\n",
    "        print('epoch ',epoch,'Train set - loss: ',round_tensor(train_loss),'Test  set - loss: ',round_tensor(test_loss))\n",
    "    optimizer.zero_grad()\n",
    "    train_loss.backward()\n",
    "    optimizer.step()"
   ]
  },
  {
   "cell_type": "code",
   "execution_count": 23,
   "metadata": {},
   "outputs": [
    {
     "name": "stderr",
     "output_type": "stream",
     "text": [
      "C:\\Users\\Mattia\\anaconda3\\lib\\site-packages\\torch\\serialization.py:360: UserWarning: Couldn't retrieve source code for container of type Net. It won't be checked for correctness upon loading.\n",
      "  \"type \" + obj.__name__ + \". It won't be checked \"\n"
     ]
    }
   ],
   "source": [
    "# save model\n",
    "MODEL_PATH = 'model.pth'\n",
    "torch.save(net, MODEL_PATH)\n",
    "#load model\n",
    "net = torch.load(MODEL_PATH)"
   ]
  },
  {
   "cell_type": "code",
   "execution_count": 24,
   "metadata": {},
   "outputs": [],
   "source": [
    "def predict(size):\n",
    "    t = torch.as_tensor(size).float().to(device)\n",
    "    output = net(t)\n",
    "    return int(output)"
   ]
  },
  {
   "cell_type": "code",
   "execution_count": 27,
   "metadata": {},
   "outputs": [
    {
     "data": {
      "text/plain": [
       "0"
      ]
     },
     "execution_count": 27,
     "metadata": {},
     "output_type": "execute_result"
    }
   ],
   "source": [
    "predict([50,50,30,30,10,100])"
   ]
  },
  {
   "cell_type": "code",
   "execution_count": null,
   "metadata": {},
   "outputs": [],
   "source": []
  }
 ],
 "metadata": {
  "kernelspec": {
   "display_name": "Python 3",
   "language": "python",
   "name": "python3"
  },
  "language_info": {
   "codemirror_mode": {
    "name": "ipython",
    "version": 3
   },
   "file_extension": ".py",
   "mimetype": "text/x-python",
   "name": "python",
   "nbconvert_exporter": "python",
   "pygments_lexer": "ipython3",
   "version": "3.7.6"
  }
 },
 "nbformat": 4,
 "nbformat_minor": 4
}
