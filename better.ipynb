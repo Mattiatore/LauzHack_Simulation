{
 "cells": [
  {
   "cell_type": "code",
   "execution_count": 44,
   "metadata": {},
   "outputs": [
    {
     "data": {
      "text/plain": [
       "<torch._C.Generator at 0x25112d133f0>"
      ]
     },
     "execution_count": 44,
     "metadata": {},
     "output_type": "execute_result"
    }
   ],
   "source": [
    "import torch\n",
    "from torch import nn, optim\n",
    "import torch.nn.functional as F\n",
    "import numpy as np\n",
    "torch.manual_seed(42)"
   ]
  },
  {
   "cell_type": "code",
   "execution_count": null,
   "metadata": {},
   "outputs": [],
   "source": [
    "# input from txt\n",
    "file=open(\"data.txt\",\"r\")\n",
    "x_train=np.empty(1)\n",
    "y_train=np.empty(1)\n",
    "\n",
    "for i in file.readlines():\n",
    "    if \" \" in i:\n",
    "        valori = i.split()\n",
    "        valori = list(map(lambda x: float(x),valori))\n",
    "        y_train=np.append(y_train, valori[0])\n",
    "        x_train=np.append(x_train, valori[1:])\n",
    "x_train = x_train[1:]\n",
    "y_train = y_train[1:]\n",
    "x_train = x_train.reshape(-1,6)\n",
    "y_train = y_train.reshape(-1,1)\n",
    "# y_train = np.log(y_train)\n",
    "\n",
    "file2=open(\"data2.txt\",\"r\")\n",
    "x_test=np.empty(1)\n",
    "y_test=np.empty(1)\n",
    "\n",
    "for i in file2.readlines():\n",
    "    if \" \" in i:\n",
    "        valori = i.split()\n",
    "        valori = list(map(lambda x: float(x),valori))\n",
    "        y_test=np.append(y_test, valori[0])\n",
    "        x_test=np.append(x_test, valori[1:])\n",
    "x_test = x_test[1:]\n",
    "y_test = y_test[1:]\n",
    "x_test = x_test.reshape(-1,6)\n",
    "y_test = y_test.reshape(-1,1)\n",
    "# y_test = np.log(y_test)"
   ]
  },
  {
   "cell_type": "code",
   "execution_count": null,
   "metadata": {},
   "outputs": [],
   "source": [
    "X_train = torch.from_numpy(x_train).float()\n",
    "y_train = torch.squeeze(torch.from_numpy(y_train).float())\n",
    "X_test = torch.from_numpy(x_test).float()\n",
    "y_test = torch.squeeze(torch.from_numpy(y_test).float())\n",
    "\n",
    "print(X_train.shape, y_train.shape)\n",
    "print(X_test.shape, y_test.shape)"
   ]
  },
  {
   "cell_type": "code",
   "execution_count": null,
   "metadata": {},
   "outputs": [],
   "source": [
    "class Net(nn.Module):\n",
    "    def __init__(self, n_features):\n",
    "        super(Net, self).__init__()\n",
    "        self.fc1 = nn.Linear(n_features, 7)\n",
    "        self.fc2 = nn.Linear(7, 4)\n",
    "        self.fc3 = nn.Linear(4, 1)\n",
    "    def forward(self, x):\n",
    "        x = F.relu(self.fc1(x))\n",
    "        x = F.relu(self.fc2(x))\n",
    "        return torch.sigmoid(self.fc3(x))\n",
    "net = Net(X_train.shape[1])"
   ]
  },
  {
   "cell_type": "code",
   "execution_count": null,
   "metadata": {},
   "outputs": [],
   "source": [
    "criterion = nn.PoissonNLLLoss\n",
    "optimizer = optim.Adam(net.parameters(), lr=0.001)"
   ]
  },
  {
   "cell_type": "code",
   "execution_count": null,
   "metadata": {},
   "outputs": [],
   "source": [
    "# use this if you have GPU available\n",
    "device = torch.device(\"cuda:0\" if torch.cuda.is_available() else \"cpu\")\n",
    "\n",
    "X_train = X_train.to(device)\n",
    "y_train = y_train.to(device)\n",
    "X_test = X_test.to(device)\n",
    "y_test = y_test.to(device)\n",
    "\n",
    "net = net.to(device)\n",
    "criterion = criterion.to(device)"
   ]
  },
  {
   "cell_type": "code",
   "execution_count": null,
   "metadata": {},
   "outputs": [],
   "source": [
    "def round_tensor(t, decimal_places=3):\n",
    "    return round(t.item(), decimal_places)\n",
    "for epoch in range(10000):\n",
    "    y_pred = net(X_train)\n",
    "    y_pred = torch.squeeze(y_pred)\n",
    "    train_loss = criterion(y_pred, y_train)\n",
    "    if epoch % 500 == 0:\n",
    "        y_test_pred = net(X_test)\n",
    "        y_test_pred = torch.squeeze(y_test_pred)\n",
    "        test_loss = criterion(y_test_pred, y_test)\n",
    "        print('epoch ',epoch,'Train set - loss: ',round_tensor(train_loss),'Test  set - loss: ',round_tensor(test_loss))\n",
    "    optimizer.zero_grad()\n",
    "    train_loss.backward()\n",
    "    optimizer.step()"
   ]
  },
  {
   "cell_type": "code",
   "execution_count": null,
   "metadata": {},
   "outputs": [],
   "source": [
    "# save model\n",
    "MODEL_PATH = 'model.pth'\n",
    "torch.save(net, MODEL_PATH)"
   ]
  },
  {
   "cell_type": "code",
   "execution_count": null,
   "metadata": {},
   "outputs": [],
   "source": [
    "#load model\n",
    "net = torch.load(MODEL_PATH)"
   ]
  },
  {
   "cell_type": "code",
   "execution_count": null,
   "metadata": {},
   "outputs": [],
   "source": [
    "def predict(size):\n",
    "    t = torch.as_tensor(size).float().to(device)\n",
    "    output = net(t)\n",
    "    return output"
   ]
  },
  {
   "cell_type": "code",
   "execution_count": null,
   "metadata": {},
   "outputs": [],
   "source": [
    "predict([1000,444,0,0,0,0])"
   ]
  },
  {
   "cell_type": "code",
   "execution_count": null,
   "metadata": {},
   "outputs": [],
   "source": []
  }
 ],
 "metadata": {
  "kernelspec": {
   "display_name": "Python 3",
   "language": "python",
   "name": "python3"
  },
  "language_info": {
   "codemirror_mode": {
    "name": "ipython",
    "version": 3
   },
   "file_extension": ".py",
   "mimetype": "text/x-python",
   "name": "python",
   "nbconvert_exporter": "python",
   "pygments_lexer": "ipython3",
   "version": "3.7.6"
  }
 },
 "nbformat": 4,
 "nbformat_minor": 4
}
