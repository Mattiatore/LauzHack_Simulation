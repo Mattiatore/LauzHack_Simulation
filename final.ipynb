{
 "cells": [
  {
   "cell_type": "code",
   "execution_count": 8,
   "metadata": {},
   "outputs": [],
   "source": [
    "import numpy as np\n",
    "import statistics"
   ]
  },
  {
   "cell_type": "code",
   "execution_count": 2,
   "metadata": {},
   "outputs": [],
   "source": [
    "# input from txt\n",
    "file=open(\"datafinal.txt\",\"r\")\n",
    "x_train=np.empty(1)\n",
    "y_train=np.empty(1)\n",
    "\n",
    "for i in file.readlines():\n",
    "    if \" \" in i:\n",
    "        valori = i.split()\n",
    "        valori = list(map(lambda x: float(x),valori))\n",
    "        y_train=np.append(y_train, valori[0])\n",
    "        x_train=np.append(x_train, valori[1:])\n",
    "x_train = x_train[1:]\n",
    "y_train = y_train[1:]\n",
    "x = x_train.reshape(-1,6)\n",
    "y = y_train.reshape(-1,1)"
   ]
  },
  {
   "cell_type": "code",
   "execution_count": 4,
   "metadata": {},
   "outputs": [],
   "source": [
    "def norm(prediction, element):\n",
    "    return np.sum(abs(np.array(prediction)-np.array(element)))"
   ]
  },
  {
   "cell_type": "code",
   "execution_count": 19,
   "metadata": {},
   "outputs": [],
   "source": [
    "prediction = [500,500,300,100,40,4]\n",
    "M = 10 # number of neighbours\n",
    "best = [10**10]*M\n",
    "indices = [0]*M\n",
    "for indice, element in enumerate(x):\n",
    "    actual = norm(element, prediction)\n",
    "    for num, check in enumerate(best):\n",
    "        if(check > actual):\n",
    "            best = best[:num] + [actual] + best[num:-1]\n",
    "            indices = indices[:num] + [indice] + indices[num:-1]\n",
    "            continue"
   ]
  },
  {
   "cell_type": "code",
   "execution_count": 20,
   "metadata": {},
   "outputs": [],
   "source": [
    "label_best = [y[i] for i in indices]\n",
    "output = statistics.median(label_best)"
   ]
  },
  {
   "cell_type": "code",
   "execution_count": 21,
   "metadata": {},
   "outputs": [
    {
     "name": "stdout",
     "output_type": "stream",
     "text": [
      "[42.]\n"
     ]
    }
   ],
   "source": [
    "print(output)"
   ]
  },
  {
   "cell_type": "code",
   "execution_count": null,
   "metadata": {},
   "outputs": [],
   "source": []
  }
 ],
 "metadata": {
  "kernelspec": {
   "display_name": "Python 3",
   "language": "python",
   "name": "python3"
  },
  "language_info": {
   "codemirror_mode": {
    "name": "ipython",
    "version": 3
   },
   "file_extension": ".py",
   "mimetype": "text/x-python",
   "name": "python",
   "nbconvert_exporter": "python",
   "pygments_lexer": "ipython3",
   "version": "3.8.5"
  }
 },
 "nbformat": 4,
 "nbformat_minor": 4
}
